{
 "cells": [
  {
   "cell_type": "markdown",
   "id": "17c83e70-b06c-4cf0-90d3-8ef3b1696d6c",
   "metadata": {},
   "source": [
    "# Readme\n",
    "\n",
    "This notebook illustrates an example call to the proposed **Optimum Transport-based SPN Weight Estimation** method.\n",
    "In general, calling it from a notebook is fairly simple; however, there are two things to keep in mind:\n",
    "\n",
    "1. The data (i.e., the log and model) are not contained in the repo. Please copy a Petri net (*.pnml) and an XES event log into the data folder.\n",
    "2. The notebook must be located direclty in the `work` folder (i.e., it must be on the same level as the `ot_backprop_pnwo` folder. In doing so, keep in mind that changes to the notebook are not safed! To persist the changes among different containers, copy it into the data folder."
   ]
  },
  {
   "cell_type": "markdown",
   "id": "06fe1267-361d-43e0-8d2e-813a796b28f8",
   "metadata": {},
   "source": [
    "# Setup"
   ]
  },
  {
   "cell_type": "markdown",
   "id": "30147391-5117-458a-bfbc-4dbd68b62cd9",
   "metadata": {},
   "source": [
    "## Imports"
   ]
  },
  {
   "cell_type": "code",
   "execution_count": null,
   "id": "4d1dc966-a59d-4d9a-b143-fdc1e0911990",
   "metadata": {},
   "outputs": [],
   "source": [
    "from pathlib import Path\n",
    "import yaml\n",
    "import logging\n",
    "\n",
    "from  ot_backprop_pnwo import run_wawe\n",
    "from ot_backprop_pnwo.evaluation.evaluation_param import ConvergenceConfig\n",
    "from ot_backprop_pnwo.optimization.emsc_loss_type import EMSCLossType\n",
    "from ot_backprop_pnwo.optimization.model import Path2VariantLayerTypes"
   ]
  },
  {
   "cell_type": "markdown",
   "id": "6c8a9c85-b4d8-4082-abf8-7e149c72f7f9",
   "metadata": {},
   "source": [
    "## Logging"
   ]
  },
  {
   "cell_type": "code",
   "execution_count": null,
   "id": "e22f6c11-9f7f-417a-a830-f65ab895233e",
   "metadata": {},
   "outputs": [],
   "source": [
    "# Load the config file\n",
    "with open('ot_backprop_pnwo/logger-config.yaml', 'rt') as f:\n",
    "    config = yaml.safe_load(f.read())\n",
    "logging.config.dictConfig(config)"
   ]
  },
  {
   "cell_type": "markdown",
   "id": "1963d332-0f50-42a7-89d4-cb64aa860355",
   "metadata": {},
   "source": [
    "# Example Call From Notebook"
   ]
  },
  {
   "cell_type": "code",
   "execution_count": null,
   "id": "03b01743-dd19-4b47-8a7a-e9ace41fde85",
   "metadata": {},
   "outputs": [],
   "source": [
    "path_log = Path('./data/road_fines.xes')\n",
    "path_pn = Path('./data/rtfm_HM_ABE.pnml')\n",
    "path_output = Path('./data/rtfm_HM_optimized.pnml')"
   ]
  },
  {
   "cell_type": "code",
   "execution_count": null,
   "id": "0b73264f-2f30-4e6c-8565-c2ce50d33a36",
   "metadata": {},
   "outputs": [],
   "source": [
    "conv_config = ConvergenceConfig(50, 5000, 0.0025)"
   ]
  },
  {
   "cell_type": "code",
   "execution_count": null,
   "id": "e86b5ca1-d87e-4503-af7c-1a1527bbef6f",
   "metadata": {},
   "outputs": [],
   "source": [
    "run_wawe.main(path_log, path_pn, path_output, EMSCLossType.PEMSC, 600, 600, Path2VariantLayerTypes.EXP_LOG_ABS, conv_config, True, False)"
   ]
  }
 ],
 "metadata": {
  "kernelspec": {
   "display_name": "Python 3 (ipykernel)",
   "language": "python",
   "name": "python3"
  },
  "language_info": {
   "codemirror_mode": {
    "name": "ipython",
    "version": 3
   },
   "file_extension": ".py",
   "mimetype": "text/x-python",
   "name": "python",
   "nbconvert_exporter": "python",
   "pygments_lexer": "ipython3",
   "version": "3.11.6"
  }
 },
 "nbformat": 4,
 "nbformat_minor": 5
}
